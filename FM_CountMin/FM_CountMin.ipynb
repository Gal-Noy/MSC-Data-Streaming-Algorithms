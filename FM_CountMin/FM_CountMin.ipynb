{
 "cells": [
  {
   "cell_type": "markdown",
   "metadata": {},
   "source": [
    "# Initialization"
   ]
  },
  {
   "cell_type": "code",
   "execution_count": 1,
   "metadata": {},
   "outputs": [
    {
     "name": "stdout",
     "output_type": "stream",
     "text": [
      "Stream length: 10000\n",
      "Number of unique elements: 1000\n",
      "First 10 elements of the stream: ['rabbitmouth' 'stageworthy' 'amidrazone' 'shockedness' 'ostealgia'\n",
      " 'huaco' 'morose' 'polyandry' 'lonesome' 'pedagoguery']\n",
      "Sketch sizes: [   10    21    46   100   215   464  1000  2154  4641 10000]\n"
     ]
    },
    {
     "name": "stderr",
     "output_type": "stream",
     "text": [
      "[nltk_data] Downloading package words to\n",
      "[nltk_data]     C:\\Users\\galno\\AppData\\Roaming\\nltk_data...\n",
      "[nltk_data]   Package words is already up-to-date!\n"
     ]
    }
   ],
   "source": [
    "import nltk\n",
    "from nltk.corpus import words\n",
    "import numpy as np\n",
    "\n",
    "SEED = 42\n",
    "NUM_ELEMENTS = 10000  # 100k elements in the stream\n",
    "NUM_UNIQUE = 1000  # 10k unique elements\n",
    "NUM_RUNS = 25\n",
    "NUM_SKETCHES = 10\n",
    "\n",
    "# Set the seed for reproducibility\n",
    "np.random.seed(SEED)\n",
    "\n",
    "nltk.download('words')\n",
    "\n",
    "word_list = words.words()\n",
    "\n",
    "# Sample 10k distinct elements\n",
    "unique_words = set(word_list)\n",
    "distinct_elements = list(unique_words)[:NUM_UNIQUE]\n",
    "\n",
    "# Generate the stream\n",
    "stream = np.random.choice(distinct_elements, size=NUM_ELEMENTS)\n",
    "\n",
    "# Shuffle the stream\n",
    "np.random.shuffle(stream)\n",
    "\n",
    "stream = np.array(stream)\n",
    "\n",
    "print(f\"Stream length: {len(stream)}\")\n",
    "print(f\"Number of unique elements: {len(np.unique(stream))}\")\n",
    "print(f\"First 10 elements of the stream: {stream[:10]}\")\n",
    "\n",
    "# Generate sketches\n",
    "sketch_sizes = np.logspace(1, np.log10(NUM_ELEMENTS), num=NUM_SKETCHES, base=10, dtype=int)\n",
    "print(f\"Sketch sizes: {sketch_sizes}\")\n"
   ]
  },
  {
   "cell_type": "code",
   "execution_count": 2,
   "metadata": {},
   "outputs": [],
   "source": [
    "def hash_fn(element, seed=SEED):\n",
    "    \"\"\"\n",
    "    Hash function that maps an element to a random number between 0 and 1.\n",
    "    \"\"\"\n",
    "    return (hash(f\"{element}{seed}\") % 2**32) / 2**32"
   ]
  },
  {
   "cell_type": "markdown",
   "metadata": {},
   "source": [
    "## Flajolet Martin"
   ]
  },
  {
   "cell_type": "markdown",
   "metadata": {},
   "source": [
    "### Flajolet Martin - Alpha Version"
   ]
  },
  {
   "cell_type": "code",
   "execution_count": 3,
   "metadata": {},
   "outputs": [
    {
     "name": "stdout",
     "output_type": "stream",
     "text": [
      "Estimated number of unique elements: 2065.225708048431\n"
     ]
    }
   ],
   "source": [
    "def flajolet_martin(stream: np.ndarray) -> float:\n",
    "    \"\"\"\n",
    "    Flajolet-Martin algorithm for counting distinct elements in a stream.\n",
    "    :param stream: numpy array of elements\n",
    "    :return: estimated number of distinct elements\n",
    "    \"\"\"\n",
    "    X = 1  # Initialize the maximum possible hash value\n",
    "    for element in stream:\n",
    "        X = min(X, hash_fn(element))\n",
    "    return 1 / X\n",
    "\n",
    "print(f\"Estimated number of unique elements: {flajolet_martin(stream[:10000])}\")"
   ]
  },
  {
   "cell_type": "markdown",
   "metadata": {},
   "source": [
    "### Flajolet Martin - Beta Version"
   ]
  },
  {
   "cell_type": "code",
   "execution_count": 4,
   "metadata": {},
   "outputs": [],
   "source": [
    "from concurrent.futures import ThreadPoolExecutor\n",
    "from typing import Optional\n",
    "\n",
    "def process_chunk(chunk: np.ndarray, seed: int) -> float:\n",
    "    \"\"\"\n",
    "    Process a chunk of the stream.\n",
    "    :param chunk: numpy array of elements\n",
    "    :param seed: seed for the hash function\n",
    "    :return: estimated number of distinct elements\n",
    "    \"\"\"\n",
    "    X = 1\n",
    "    for element in chunk:\n",
    "        X = min(X, hash_fn(element, seed))\n",
    "    return X\n",
    "\n",
    "def flajolet_martin_beta(stream: np.ndarray, s: int, seeds: Optional[np.ndarray] = None) -> float:\n",
    "    \"\"\"\n",
    "    Flajolet-Martin Beta algorithm for counting distinct elements in a stream.\n",
    "    :param stream: numpy array of elements\n",
    "    :param s: number of FM estimators to calculate\n",
    "    :param seeds: numpy array of seeds for the hash functions\n",
    "    :return: estimated number of distinct elements\n",
    "    \"\"\"\n",
    "    seeds = range(s) if seeds is None else seeds\n",
    "    with ThreadPoolExecutor() as executor:\n",
    "        Z = list(executor.map(lambda i: process_chunk(stream, seeds[i]), range(s)))\n",
    "    \n",
    "    return 1 / np.mean(Z) - 1"
   ]
  },
  {
   "cell_type": "markdown",
   "metadata": {},
   "source": [
    "### Flajolet Martin - Final Version"
   ]
  },
  {
   "cell_type": "code",
   "execution_count": 5,
   "metadata": {},
   "outputs": [],
   "source": [
    "from concurrent.futures import ThreadPoolExecutor\n",
    "import numpy as np\n",
    "\n",
    "def flajolet_martin_final(stream: np.ndarray, t: int, s: int) -> float:\n",
    "    \"\"\"\n",
    "    Flajolet-Martin Final algorithm that uses t instances of Flajolet-Martin Beta.\n",
    "    :param stream: numpy array of elements\n",
    "    :param t: number of Flajolet-Martin Beta instances to run\n",
    "    :param s: number of FM estimators per Flajolet-Martin Beta instance\n",
    "    :return: median of the distinct element estimates\n",
    "    \"\"\"\n",
    "    seeds = np.arange(1, t * s + 1)\n",
    "    \n",
    "    with ThreadPoolExecutor() as executor:\n",
    "        estimates = list(executor.map(\n",
    "            lambda idx: flajolet_martin_beta(stream, s, seeds[idx * s: (idx + 1) * s]),\n",
    "            range(t)\n",
    "        ))\n",
    "    \n",
    "    return np.median(estimates)"
   ]
  },
  {
   "cell_type": "markdown",
   "metadata": {},
   "source": [
    "Run 25 times for each sketch size"
   ]
  },
  {
   "cell_type": "code",
   "execution_count": null,
   "metadata": {},
   "outputs": [
    {
     "name": "stdout",
     "output_type": "stream",
     "text": [
      "Number of FM-beta estimators: 300\n",
      "Number of FM estimators per FM-beta estimator: 2000\n",
      "True number of unique elements: 1000\n"
     ]
    }
   ],
   "source": [
    "def process_sketch(sketch_size, s, t):\n",
    "    fm_results = []\n",
    "    fm_beta_results = []\n",
    "    fm_final_results = []\n",
    "    \n",
    "    for _ in range(NUM_RUNS):\n",
    "        # Generate sketch\n",
    "        indices = np.random.choice(len(stream), size=sketch_size, replace=False)\n",
    "        sketch = stream[indices]\n",
    "        \n",
    "        # Calculate FM, FM-beta, and FM-final estimates\n",
    "        fm_estimate = flajolet_martin(sketch)\n",
    "        fm_beta_estimate = flajolet_martin_beta(sketch, s)\n",
    "        fm_final_estimate = flajolet_martin_final(sketch, t, s)\n",
    "        \n",
    "        fm_results.append(fm_estimate)\n",
    "        fm_beta_results.append(fm_beta_estimate)\n",
    "        fm_final_results.append(fm_final_estimate)\n",
    "    \n",
    "    print(f\"Sketch size: {sketch_size}, FM estimate: {np.mean(fm_results):.2f}, FM-beta estimate: {np.mean(fm_beta_results):.2f}, FM-final estimate: {np.mean(fm_final_results):.2f}\")\n",
    "    return (fm_results, fm_beta_results, fm_final_results)\n",
    "\n",
    "fm_results, fm_beta_results, fm_final_results = {}, {}, {}\n",
    "\n",
    "epsilon = 0.1\n",
    "delta = 0.05  # Confidence level of 95%\n",
    "\n",
    "t = int(np.ceil(np.log(1 / delta) / epsilon**2))\n",
    "print(f\"Number of FM-beta estimators: {t}\")\n",
    "\n",
    "s = int(np.ceil(1 / (epsilon**2 * delta)))\n",
    "print(f\"Number of FM estimators per FM-beta estimator: {s}\")\n",
    "\n",
    "true_unique = len(np.unique(stream))\n",
    "print(f\"True number of unique elements: {true_unique}\")\n",
    "\n",
    "with ThreadPoolExecutor() as executor:\n",
    "    futures = {sketch_size: executor.submit(process_sketch, sketch_size, s, t) for sketch_size in sketch_sizes}\n",
    "    \n",
    "    for sketch_size, future in futures.items():\n",
    "        sz_fm_results, sz_fm_beta_results, sz_fm_final_results = future.result()\n",
    "        \n",
    "        fm_results[sketch_size] = sz_fm_results\n",
    "        fm_beta_results[sketch_size] = sz_fm_beta_results\n",
    "        fm_final_results[sketch_size] = sz_fm_final_results\n"
   ]
  },
  {
   "cell_type": "code",
   "execution_count": 6,
   "metadata": {},
   "outputs": [
    {
     "ename": "NameError",
     "evalue": "name 'fm_results' is not defined",
     "output_type": "error",
     "traceback": [
      "\u001b[1;31m---------------------------------------------------------------------------\u001b[0m",
      "\u001b[1;31mNameError\u001b[0m                                 Traceback (most recent call last)",
      "Cell \u001b[1;32mIn[6], line 18\u001b[0m\n\u001b[0;32m     11\u001b[0m         metrics[sketch_size] \u001b[38;5;241m=\u001b[39m {\n\u001b[0;32m     12\u001b[0m             \u001b[38;5;124m\"\u001b[39m\u001b[38;5;124maccuracy\u001b[39m\u001b[38;5;124m\"\u001b[39m: np\u001b[38;5;241m.\u001b[39mmean([\u001b[38;5;28mmax\u001b[39m(\u001b[38;5;241m0\u001b[39m, \u001b[38;5;241m1\u001b[39m \u001b[38;5;241m-\u001b[39m \u001b[38;5;28mabs\u001b[39m(est \u001b[38;5;241m-\u001b[39m true_unique) \u001b[38;5;241m/\u001b[39m true_unique) \u001b[38;5;28;01mfor\u001b[39;00m est \u001b[38;5;129;01min\u001b[39;00m size_estimates]),\n\u001b[0;32m     13\u001b[0m             \u001b[38;5;124m\"\u001b[39m\u001b[38;5;124mbias\u001b[39m\u001b[38;5;124m\"\u001b[39m: np\u001b[38;5;241m.\u001b[39mmean([est \u001b[38;5;241m-\u001b[39m true_unique \u001b[38;5;28;01mfor\u001b[39;00m est \u001b[38;5;129;01min\u001b[39;00m size_estimates]),\n\u001b[0;32m     14\u001b[0m             \u001b[38;5;124m\"\u001b[39m\u001b[38;5;124mnormalized_variance\u001b[39m\u001b[38;5;124m\"\u001b[39m: np\u001b[38;5;241m.\u001b[39mmean([((est \u001b[38;5;241m-\u001b[39m true_unique) \u001b[38;5;241m/\u001b[39m true_unique) \u001b[38;5;28;01mfor\u001b[39;00m est \u001b[38;5;129;01min\u001b[39;00m size_estimates])\n\u001b[0;32m     15\u001b[0m         }\n\u001b[0;32m     16\u001b[0m     \u001b[38;5;28;01mreturn\u001b[39;00m metrics\n\u001b[1;32m---> 18\u001b[0m fm_metrics \u001b[38;5;241m=\u001b[39m calculate_metrics(\u001b[43mfm_results\u001b[49m)\n\u001b[0;32m     19\u001b[0m fm_beta_metrics \u001b[38;5;241m=\u001b[39m calculate_metrics(fm_beta_results)\n\u001b[0;32m     20\u001b[0m fm_final_metrics \u001b[38;5;241m=\u001b[39m calculate_metrics(fm_final_results)\n",
      "\u001b[1;31mNameError\u001b[0m: name 'fm_results' is not defined"
     ]
    }
   ],
   "source": [
    "import matplotlib.pyplot as plt\n",
    "\n",
    "def calculate_metrics(estimates: dict) -> dict:\n",
    "    \"\"\"\n",
    "    Calculate the accuracy, bias, and normalized variance of the estimates.\n",
    "    :param estimates: dictionary of estimates\n",
    "    :return: dictionary of metrics\n",
    "    \"\"\"\n",
    "    metrics = {}\n",
    "    for sketch_size, size_estimates in estimates.items():\n",
    "        metrics[sketch_size] = {\n",
    "            \"accuracy\": np.mean([max(0, 1 - abs(est - true_unique) / true_unique) for est in size_estimates]),\n",
    "            \"bias\": np.mean([est - true_unique for est in size_estimates]),\n",
    "            \"normalized_variance\": np.mean([((est - true_unique) / true_unique) for est in size_estimates])\n",
    "        }\n",
    "    return metrics\n",
    "\n",
    "fm_metrics = calculate_metrics(fm_results)\n",
    "fm_beta_metrics = calculate_metrics(fm_beta_results)\n",
    "fm_final_metrics = calculate_metrics(fm_final_results)\n",
    "\n",
    "# Create a figure and axis\n",
    "fig, ax = plt.subplots(3, 1, figsize=(10, 15))\n",
    "\n",
    "# Plot the accuracy\n",
    "ax[0].plot(sketch_sizes, [fm_metrics[sketch_size][\"accuracy\"] for sketch_size in sketch_sizes], label=\"FM\")\n",
    "ax[0].plot(sketch_sizes, [fm_beta_metrics[sketch_size][\"accuracy\"] for sketch_size in sketch_sizes], label=\"FM-beta\")\n",
    "ax[0].plot(sketch_sizes, [fm_final_metrics[sketch_size][\"accuracy\"] for sketch_size in sketch_sizes], label=\"FM-final\")\n",
    "ax[0].set_xscale(\"log\")\n",
    "ax[0].set_xlabel(\"Sketch size\")\n",
    "ax[0].set_ylabel(\"Accuracy\")\n",
    "ax[0].set_title(\"Accuracy\")\n",
    "ax[0].legend()\n",
    "\n",
    "# Plot the bias\n",
    "ax[1].plot(sketch_sizes, [fm_metrics[sketch_size][\"bias\"] for sketch_size in sketch_sizes], label=\"FM\")\n",
    "ax[1].plot(sketch_sizes, [fm_beta_metrics[sketch_size][\"bias\"] for sketch_size in sketch_sizes], label=\"FM-beta\")\n",
    "ax[1].plot(sketch_sizes, [fm_final_metrics[sketch_size][\"bias\"] for sketch_size in sketch_sizes], label=\"FM-final\")\n",
    "ax[1].set_xscale(\"log\")\n",
    "ax[1].set_xlabel(\"Sketch size\")\n",
    "ax[1].set_ylabel(\"Bias\")\n",
    "ax[1].set_title(\"Bias\")\n",
    "ax[1].legend()\n",
    "\n",
    "# Plot the normalized variance\n",
    "ax[2].plot(sketch_sizes, [fm_metrics[sketch_size][\"normalized_variance\"] for sketch_size in sketch_sizes], label=\"FM\")\n",
    "ax[2].plot(sketch_sizes, [fm_beta_metrics[sketch_size][\"normalized_variance\"] for sketch_size in sketch_sizes], label=\"FM-beta\")\n",
    "ax[2].plot(sketch_sizes, [fm_final_metrics[sketch_size][\"normalized_variance\"] for sketch_size in sketch_sizes], label=\"FM-final\")\n",
    "ax[2].set_xscale(\"log\")\n",
    "ax[2].set_xlabel(\"Sketch size\")\n",
    "ax[2].set_ylabel(\"Normalized variance\")\n",
    "ax[2].set_title(\"Normalized variance\")\n",
    "ax[2].legend()\n",
    "\n",
    "plt.tight_layout()\n",
    "plt.show()"
   ]
  }
 ],
 "metadata": {
  "kernelspec": {
   "display_name": "venv",
   "language": "python",
   "name": "python3"
  },
  "language_info": {
   "codemirror_mode": {
    "name": "ipython",
    "version": 3
   },
   "file_extension": ".py",
   "mimetype": "text/x-python",
   "name": "python",
   "nbconvert_exporter": "python",
   "pygments_lexer": "ipython3",
   "version": "3.12.7"
  }
 },
 "nbformat": 4,
 "nbformat_minor": 2
}
