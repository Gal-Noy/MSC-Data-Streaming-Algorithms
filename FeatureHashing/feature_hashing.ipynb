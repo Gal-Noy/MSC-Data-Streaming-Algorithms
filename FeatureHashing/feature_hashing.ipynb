{
 "cells": [
  {
   "cell_type": "code",
   "execution_count": 1,
   "metadata": {},
   "outputs": [],
   "source": [
    "%load_ext cython\n",
    "import os\n",
    "import json\n",
    "import numpy as np\n",
    "import pandas as pd\n",
    "from scipy.sparse import vstack, csr_matrix, lil_matrix\n",
    "from sklearn.model_selection import train_test_split\n",
    "from sklearn.metrics import accuracy_score, recall_score, precision_score, f1_score, roc_auc_score, confusion_matrix\n",
    "from sklearn.feature_extraction.text import TfidfVectorizer\n",
    "from sklearn.feature_extraction import FeatureHasher\n",
    "from sklearn.decomposition import PCA\n",
    "from sklearn.random_projection import SparseRandomProjection\n",
    "from sklearn.random_projection import GaussianRandomProjection\n",
    "from sklearn.preprocessing import StandardScaler\n",
    "from sklearn.manifold import TSNE\n",
    "from sklearn.linear_model import SGDClassifier\n",
    "from sklearn.svm import LinearSVC\n",
    "from sklearn.neighbors import KNeighborsClassifier\n",
    "import matplotlib.pyplot as plt\n",
    "import mmh3\n"
   ]
  },
  {
   "cell_type": "code",
   "execution_count": 2,
   "metadata": {},
   "outputs": [],
   "source": [
    "def train_and_evaluate_model_sgd(X_train, X_test, y_train, y_test):\n",
    "    sgd_clf = SGDClassifier(loss='log_loss')\n",
    "    sgd_clf.fit(X_train, y_train)\n",
    "    y_pred = sgd_clf.predict(X_test)\n",
    "    return accuracy_score(y_test, y_pred)\n",
    "\n",
    "def train_and_evaluate_model_knn(X_train, X_test, y_train, y_test):\n",
    "    knn_clf = KNeighborsClassifier()\n",
    "    knn_clf.fit(X_train, y_train)\n",
    "    y_pred = knn_clf.predict(X_test)\n",
    "    return accuracy_score(y_test, y_pred)\n",
    "\n",
    "def train_and_evaluate_model_svm(X_train, X_test, y_train, y_test):\n",
    "    svm_clf = LinearSVC()\n",
    "    svm_clf.fit(X_train, y_train)\n",
    "    y_pred = svm_clf.predict(X_test)\n",
    "    return accuracy_score(y_test, y_pred)"
   ]
  },
  {
   "cell_type": "code",
   "execution_count": 3,
   "metadata": {},
   "outputs": [
    {
     "name": "stdout",
     "output_type": "stream",
     "text": [
      "Number of samples: 209527, number of features: 318358\n"
     ]
    }
   ],
   "source": [
    "# Extract data (jsonl) in chunks to avoid MemoryError\n",
    "chunk_size = 1000\n",
    "chunks = []\n",
    "for chunk in pd.read_json('News_Category_Dataset_v3.json', lines=True, chunksize=chunk_size):\n",
    "\tchunks.append(chunk)\n",
    "dataset_df = pd.concat(chunks, ignore_index=True)\n",
    "dataset_df['content'] = dataset_df[[c for c in dataset_df.columns if c != 'category']].apply(lambda x: ' '.join(x.astype(str)), axis=1)\n",
    "X, y = dataset_df['content'], dataset_df['category']\n",
    "\n",
    "# Build bag of words\n",
    "vectorizer = TfidfVectorizer(stop_words='english')\n",
    "X_BoW = vectorizer.fit_transform(X)\n",
    "X_BoW = X_BoW.astype(np.float32)\n",
    "feature_names = vectorizer.get_feature_names_out()\n",
    "N, D = X_BoW.shape\n",
    "print(f'Number of samples: {N}, number of features: {D}')"
   ]
  },
  {
   "cell_type": "markdown",
   "metadata": {},
   "source": [
    "### SGD Classifier"
   ]
  },
  {
   "cell_type": "code",
   "execution_count": 4,
   "metadata": {},
   "outputs": [
    {
     "name": "stdout",
     "output_type": "stream",
     "text": [
      "Accuracy without dimensionality reduction (318358 features): 0.5088\n"
     ]
    }
   ],
   "source": [
    "# Train and evaluate model without hashing\n",
    "X_train, X_test, y_train, y_test = train_test_split(X_BoW, y, test_size=0.3, random_state=42)\n",
    "baseline_accuracy = train_and_evaluate_model_sgd(X_train, X_test, y_train, y_test)\n",
    "print(f\"Accuracy without dimensionality reduction ({X_BoW.shape[1]} features): {baseline_accuracy:.4f}\")"
   ]
  },
  {
   "cell_type": "code",
   "execution_count": 5,
   "metadata": {},
   "outputs": [
    {
     "data": {
      "text/plain": [
       "np.float64(29.25994263269173)"
      ]
     },
     "execution_count": 5,
     "metadata": {},
     "output_type": "execute_result"
    }
   ],
   "source": [
    "def get_hasher_input():\n",
    "    X_hasher_input = []\n",
    "    for i in range(X_BoW.shape[0]):\n",
    "        # Get non-zero indices and values for the row i\n",
    "        row_indices = X_BoW[i].indices\n",
    "        row_values = X_BoW[i].data\n",
    "\n",
    "        # Map feature names to their values\n",
    "        row_vals = [(feature_names[j], row_values[idx]) for idx, j in enumerate(row_indices)]\n",
    "        \n",
    "        X_hasher_input.append(row_vals)\n",
    "    return X_hasher_input\n",
    "\n",
    "X_hasher_input = get_hasher_input()\n",
    "np.average([len(x) for x in X_hasher_input])"
   ]
  },
  {
   "cell_type": "code",
   "execution_count": 6,
   "metadata": {},
   "outputs": [],
   "source": [
    "%%cython\n",
    "import numpy as np\n",
    "cimport numpy as np\n",
    "\n",
    "ctypedef np.float64_t DTYPE_t\n",
    "ctypedef np.int64_t ITYPE_t\n",
    "\n",
    "def multi_feature_hashing_cy(\n",
    "    list X_hasher_input,\n",
    "    int n_features,\n",
    "    np.ndarray[ITYPE_t, ndim=2] hashes,     # Shape: (n_hashes, n_features)\n",
    "    np.ndarray[ITYPE_t, ndim=1] signs,      # Shape: (n_features,)\n",
    "    list feature_names                      \n",
    "):\n",
    "    cdef:\n",
    "        int i, j, k\n",
    "        int n_samples = len(X_hasher_input)\n",
    "        int n_hashes = hashes.shape[0]\n",
    "        np.ndarray[DTYPE_t, ndim=2] X_hashed = np.zeros((n_samples, n_features), dtype=np.float64)\n",
    "        DTYPE_t[:, :] X_hashed_view = X_hashed\n",
    "        ITYPE_t[:, :] hashes_view = hashes\n",
    "        ITYPE_t[:] signs_view = signs\n",
    "        \n",
    "        list row\n",
    "        tuple feature_value\n",
    "        object feature\n",
    "        int feat_idx\n",
    "        DTYPE_t value\n",
    "        ITYPE_t hash_val\n",
    "        \n",
    "        dict feature_map = {name: idx for idx, name in enumerate(feature_names)}\n",
    "    \n",
    "    for i in range(n_samples):\n",
    "        row = X_hasher_input[i]\n",
    "        \n",
    "        for j in range(len(row)):\n",
    "            feature_value = row[j]\n",
    "            feature = feature_value[0]\n",
    "            feat_idx = feature_map[feature]\n",
    "\n",
    "            value = feature_value[1] * signs_view[feat_idx]\n",
    "            \n",
    "            for k in range(n_hashes):\n",
    "                hash_val = hashes_view[k, feat_idx] % n_features\n",
    "                X_hashed_view[i, hash_val] += value\n",
    "    \n",
    "    return X_hashed"
   ]
  },
  {
   "cell_type": "code",
   "execution_count": 7,
   "metadata": {},
   "outputs": [],
   "source": [
    "np.random.seed(0)\n",
    "signs = np.array(np.random.choice([-1, 1], size=len(feature_names)), dtype=np.int64)\n",
    "hashes = np.array([[mmh3.hash(f.encode('utf-8'), i, signed=False) for f in feature_names] for i in range(5)], dtype=np.int64)\n",
    "\n",
    "def multi_feature_hashing_new(X_hasher_input, n_features, n_hashes):\n",
    "    return multi_feature_hashing_cy(\n",
    "        X_hasher_input,\n",
    "        n_features,\n",
    "        hashes[:n_hashes],\n",
    "        signs,\n",
    "        list(feature_names)\n",
    "    )"
   ]
  },
  {
   "cell_type": "code",
   "execution_count": null,
   "metadata": {},
   "outputs": [
    {
     "name": "stdout",
     "output_type": "stream",
     "text": [
      "K: 64\n",
      "H: 1, Accuracy: 0.1951\n",
      "H: 2, Accuracy: 0.2015\n",
      "H: 3, Accuracy: 0.2019\n",
      "K: 128\n",
      "H: 1, Accuracy: 0.2329\n",
      "H: 2, Accuracy: 0.2431\n",
      "H: 3, Accuracy: 0.2497\n",
      "K: 256\n",
      "H: 1, Accuracy: 0.2909\n"
     ]
    }
   ],
   "source": [
    "Ks = [2**i for i in range(6, 18)] # Number of components s.t. K << D\n",
    "Hs = range(1, 4) # Number of hashes for multi-feature hashing\n",
    "\n",
    "mfh_accuracies = np.zeros((len(Ks), len(Hs)))\n",
    "\n",
    "for K in Ks:\n",
    "    print(f\"K: {K}\")\n",
    "    # Feature Hashing\n",
    "    # hasher = FeatureHasher(n_features=K, input_type='pair')\n",
    "    # X_hashed = hasher.transform(X_hasher_input)\n",
    "    # X_train_hashed, X_test_hashed, y_train, y_test = train_test_split(X_hashed, y, test_size=0.3, random_state=42)\n",
    "    # fh_accuracy = train_and_evaluate_model_sgd(X_train_hashed, X_test_hashed, y_train, y_test)\n",
    "    # fh_accuracies.append(fh_accuracy)\n",
    "    \n",
    "    # Multi-Feature Hashing\n",
    "    for H in Hs:\n",
    "        X_mfh = multi_feature_hashing_new(X_hasher_input, K, H)\n",
    "        X_train_mfh, X_test_mfh, y_train, y_test = train_test_split(X_mfh, y, test_size=0.3, random_state=42)\n",
    "        mfh_accuracy = train_and_evaluate_model_sgd(X_train_mfh, X_test_mfh, y_train, y_test)\n",
    "        mfh_accuracies[Ks.index(K), Hs.index(H)] = mfh_accuracy\n",
    "        print(f\"H: {H}, Accuracy: {mfh_accuracy:.4f}\")\n",
    "    \n",
    "    # Cuckoo Feature Hashing\n",
    "    # X_cfh = cuckoo_feature_hashing(X_hasher_input, K, 10)\n",
    "    # X_train_cfh, X_test_cfh, y_train, y_test = train_test_split(X_cfh, y, test_size=0.3, random_state=42)\n",
    "    # cfh_accuracy = train_and_evaluate_model_sgd(X_train_cfh, X_test_cfh, y_train, y_test)\n",
    "    # cfh_accuracies.append(cfh_accuracy)\n",
    "    \n",
    "    \n",
    "    # PCA\n",
    "    # pca = PCA(n_components=K)\n",
    "    # X_pca = pca.fit_transform(X_BoW)\n",
    "    # X_train_pca, X_test_pca, y_train, y_test = train_test_split(X_pca, y, test_size=0.3, random_state=42)\n",
    "    # pca_accuracy = train_and_evaluate_model_sgd(X_train_pca, X_test_pca, y_train, y_test)\n",
    "    # pca_accuracies.append(pca_accuracy)\n",
    "    \n",
    "    # Sparse Random Projection\n",
    "    # srp = SparseRandomProjection(n_components=K)\n",
    "    # X_srp = srp.fit_transform(X_BoW)\n",
    "    # X_train_srp, X_test_srp, y_train, y_test = train_test_split(X_srp, y, test_size=0.3, random_state=42)\n",
    "    # srp_accuracy = train_and_evaluate_model_sgd(X_train_srp, X_test_srp, y_train, y_test)\n",
    "    # srp_accuracies.append(srp_accuracy)\n",
    "    \n",
    "    # Johnson-Lindenstrauss\n",
    "    # jl = GaussianRandomProjection(n_components=K)\n",
    "    # X_jl = jl.fit_transform(X_BoW)\n",
    "    # X_train_jl, X_test_jl, y_train, y_test = train_test_split(X_jl, y, test_size=0.3, random_state=42)\n",
    "    # jl_accuracy = train_and_evaluate_model_sgd(X_train_jl, X_test_jl, y_train, y_test)\n",
    "    # jl_accuracies.append(jl_accuracy)\n",
    "    \n",
    "    # t-SNE\n",
    "    # tsne = TSNE(n_components=K)\n",
    "    # X_tsne = tsne.fit_transform(X_BoW)\n",
    "    # X_train_tsne, X_test_tsne, y_train, y_test = train_test_split(X_tsne, y, test_size=0.3, random_state=42)\n",
    "    # tsne_accuracy = train_and_evaluate_model_sgd(X_train_tsne, X_test_tsne, y_train, y_test)\n",
    "    # tsne_accuracies.append(tsne_accuracy)\n",
    "    \n",
    "    # Autoencoder\n",
    "    # Not implemented\n",
    "    \n",
    "    # print(f\"K: {K}, \"\n",
    "    #         f\"Accuracy (Feature Hashing): {fh_accuracy:.4f}, \"\n",
    "    #         f\"Multi Feature Hashing: {mfh_accuracy:.4f}, \"\n",
    "    #         # f\"Cuckoo Feature Hashing: {cfh_accuracy:.4f}\"\n",
    "    #         # f\"Accuracy (PCA): {pca_accuracy:.4f}, \"\n",
    "    #         # f\"Accuracy (Sparse Random Projection): {srp_accuracy:.4f}, \"\n",
    "    #         # f\"Accuracy (Johnson-Lindenstrauss): {jl_accuracy:.4f}, \"\n",
    "    #         # f\"Accuracy (t-SNE): {tsne_accuracy:.4f}\"\n",
    "    #         )\n",
    "    \n",
    "\n",
    "# Plot accuracies vs K\n",
    "# plt.plot(Ks, fh_accuracies, label='Feature Hashing')\n",
    "# plt.plot(Ks, mfh_accuracies, label='Multi-Feature Hashing')\n",
    "# plt.plot(Ks, cfh_accuracies, label='Cuckoo Feature Hashing')\n",
    "# plt.plot(Ks, pca_accuracies, label='PCA')\n",
    "# plt.plot(Ks, srp_accuracies, label='Sparse Random Projection')\n",
    "# plt.plot(Ks, jl_accuracies, label='Johnson-Lindenstrauss')\n",
    "# plt.plot(Ks, tsne_accuracies, label='t-SNE')\n",
    "# Plot all Hs\n",
    "for H in Hs:\n",
    "    plt.plot(Ks, mfh_accuracies[:, H-1], label=f'Multi-Feature Hashing (H={H})')\n",
    "plt.axhline(y=baseline_accuracy, color='r', linestyle='--', label='Baseline')\n",
    "plt.xlabel('K')\n",
    "plt.ylabel('Accuracy')\n",
    "plt.legend()\n",
    "plt.show()"
   ]
  },
  {
   "cell_type": "markdown",
   "metadata": {},
   "source": [
    "Deprecated"
   ]
  },
  {
   "cell_type": "code",
   "execution_count": null,
   "metadata": {},
   "outputs": [],
   "source": [
    "def multi_feature_hashing(X_hasher_input, n_features, n_hashes):\n",
    "    X_hashed = np.zeros((len(X_hasher_input), n_features))\n",
    "    \n",
    "    for i, row in enumerate(X_hasher_input):\n",
    "        row_features, row_values = zip(*row)\n",
    "        feature_indices = np.searchsorted(feature_names, row_features)\n",
    "        \n",
    "        hs = hashes[:n_hashes][:, feature_indices] % n_features\n",
    "        v = np.array(row_values) * signs[feature_indices]\n",
    "        \n",
    "        for h in hs:\n",
    "            np.add.at(X_hashed[i], h, v)\n",
    "\n",
    "    return X_hashed\n",
    "\n",
    "def cuckoo_feature_hashing(X_hasher_input, n_features, max_loop):\n",
    "    X_hashed = np.zeros((len(X_hasher_input), n_features))\n",
    "    buckets_1 = {f: (hashes_1[f] % n_features) for f in feature_names}\n",
    "    buckets_2 = {f: (hashes_2[f] % n_features) for f in feature_names}\n",
    "    for i, row in enumerate(X_hasher_input):\n",
    "        for f, v in row.items():\n",
    "            h1, h2, sign = buckets_1[f], buckets_2[f], feature_signs[f]\n",
    "            value = sign * v\n",
    "            assigned = False\n",
    "            for _ in range(max_loop):\n",
    "                if X_hashed[i, h1] == 0:  \n",
    "                    X_hashed[i, h1] = value\n",
    "                    assigned = True\n",
    "                    break  \n",
    "                else:\n",
    "                    # Swap with existing value and move it to the alternative location\n",
    "                    value, X_hashed[i, h1] = X_hashed[i, h1], value\n",
    "                    h1, h2 = h2, (h1 + h2) % n_features  # Rehash to the next location\n",
    "            if not assigned:\n",
    "                X_hashed[i, h1] += value  \n",
    "            \n",
    "    return csr_matrix(X_hashed)"
   ]
  }
 ],
 "metadata": {
  "kernelspec": {
   "display_name": "venv",
   "language": "python",
   "name": "python3"
  },
  "language_info": {
   "codemirror_mode": {
    "name": "ipython",
    "version": 3
   },
   "file_extension": ".py",
   "mimetype": "text/x-python",
   "name": "python",
   "nbconvert_exporter": "python",
   "pygments_lexer": "ipython3",
   "version": "3.12.7"
  }
 },
 "nbformat": 4,
 "nbformat_minor": 2
}
